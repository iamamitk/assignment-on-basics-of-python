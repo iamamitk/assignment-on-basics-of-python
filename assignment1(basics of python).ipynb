{
 "cells": [
  {
   "cell_type": "markdown",
   "id": "0acadb59",
   "metadata": {},
   "source": [
    "##problem 1"
   ]
  },
  {
   "cell_type": "code",
   "execution_count": 1,
   "id": "44358819",
   "metadata": {},
   "outputs": [
    {
     "data": {
      "text/plain": [
       "2401"
      ]
     },
     "execution_count": 1,
     "metadata": {},
     "output_type": "execute_result"
    }
   ],
   "source": [
    "7**4"
   ]
  },
  {
   "cell_type": "markdown",
   "id": "d91ba087",
   "metadata": {},
   "source": [
    "##problem 2 ** Split this string:**"
   ]
  },
  {
   "cell_type": "code",
   "execution_count": 11,
   "id": "ff301814",
   "metadata": {},
   "outputs": [
    {
     "name": "stdout",
     "output_type": "stream",
     "text": [
      "['Hi', 'there', 'Yogesh!']\n"
     ]
    }
   ],
   "source": [
    "s= \"Hi there Yogesh!\"\n",
    "x=s.split()\n",
    "print(x)"
   ]
  },
  {
   "cell_type": "markdown",
   "id": "bee37a67",
   "metadata": {},
   "source": [
    "##proble3 ** Use .format() to print the following string: **"
   ]
  },
  {
   "cell_type": "code",
   "execution_count": 13,
   "id": "31ce58e4",
   "metadata": {},
   "outputs": [
    {
     "name": "stdout",
     "output_type": "stream",
     "text": [
      "The diameter of Earth is 12742 kilometers\n"
     ]
    }
   ],
   "source": [
    "x=\"The diameter of {planet} is {diameter} kilometers\".format(planet=\"Earth\",diameter=12742)\n",
    "print(x)"
   ]
  },
  {
   "cell_type": "markdown",
   "id": "3d09e0af",
   "metadata": {},
   "source": [
    "##problem4 ** Given this nested list, use indexing to grab the word \"hello\" **"
   ]
  },
  {
   "cell_type": "code",
   "execution_count": 15,
   "id": "65a0e2b4",
   "metadata": {},
   "outputs": [
    {
     "name": "stdout",
     "output_type": "stream",
     "text": [
      "hello\n"
     ]
    }
   ],
   "source": [
    "lst = [1,2,[3,4],[5,[100,200,['hello']],23,11],1,7]\n",
    "print(lst[3][1][2][0])"
   ]
  },
  {
   "cell_type": "markdown",
   "id": "7b782d76",
   "metadata": {},
   "source": [
    "##problem5#grab the word \"hello\""
   ]
  },
  {
   "cell_type": "code",
   "execution_count": 23,
   "id": "19967eb7",
   "metadata": {},
   "outputs": [
    {
     "name": "stdout",
     "output_type": "stream",
     "text": [
      "hello\n"
     ]
    }
   ],
   "source": [
    "d = {'k1':[1,2,3,{'tricky':['oh','man','inception',{'target':[1,2,3,'hello']}]}]}\n",
    "print(d['k1'][3]['tricky'][3]['target'][3][0:5])"
   ]
  },
  {
   "cell_type": "markdown",
   "id": "48e343a1",
   "metadata": {},
   "source": [
    "##problem6 ##What is the main difference between a tuple and a list?\n",
    "#ans=Tuples are immutable"
   ]
  },
  {
   "cell_type": "markdown",
   "id": "bb8941de",
   "metadata": {},
   "source": [
    "##probles7 ##function that grabs the email website domain from a string in the form"
   ]
  },
  {
   "cell_type": "code",
   "execution_count": 6,
   "id": "f99c8865",
   "metadata": {},
   "outputs": [],
   "source": [
    "def func(x):\n",
    "    return x.split(\"@\")[1]"
   ]
  },
  {
   "cell_type": "code",
   "execution_count": 9,
   "id": "ce2dfcce",
   "metadata": {},
   "outputs": [
    {
     "data": {
      "text/plain": [
       "'gmail.com'"
      ]
     },
     "execution_count": 9,
     "metadata": {},
     "output_type": "execute_result"
    }
   ],
   "source": [
    "func(\"amitkatkar51@gmail.com\")"
   ]
  },
  {
   "cell_type": "markdown",
   "id": "6176f264",
   "metadata": {},
   "source": [
    "##problem8 function that returns True if the word 'dog' is contained in the input string"
   ]
  },
  {
   "cell_type": "code",
   "execution_count": 19,
   "id": "0a5ad053",
   "metadata": {},
   "outputs": [],
   "source": [
    "def findDog(x):\n",
    "    if 'dog' in x:\n",
    "        print(True)\n",
    "    else:\n",
    "        print(False)"
   ]
  },
  {
   "cell_type": "code",
   "execution_count": 22,
   "id": "3c8bf341",
   "metadata": {},
   "outputs": [
    {
     "name": "stdout",
     "output_type": "stream",
     "text": [
      "True\n"
     ]
    }
   ],
   "source": [
    "findDog('Is there a dog here?')"
   ]
  },
  {
   "cell_type": "markdown",
   "id": "571532ac",
   "metadata": {},
   "source": [
    "##problem9 function that counts the number of times the word \"dog\" occurs in a string"
   ]
  },
  {
   "cell_type": "code",
   "execution_count": 28,
   "id": "b4da49ab",
   "metadata": {},
   "outputs": [],
   "source": [
    "def countDog(x):\n",
    "    print(x.count('dog'))"
   ]
  },
  {
   "cell_type": "code",
   "execution_count": 29,
   "id": "ae782b5c",
   "metadata": {},
   "outputs": [
    {
     "name": "stdout",
     "output_type": "stream",
     "text": [
      "2\n"
     ]
    }
   ],
   "source": [
    "countDog('This dog runs faster than the other dog dude!')"
   ]
  },
  {
   "cell_type": "markdown",
   "id": "458063c5",
   "metadata": {},
   "source": [
    "##probles10 lambda expressions and the filter() function to filter out words from a list that don't start with the letter 's'"
   ]
  },
  {
   "cell_type": "code",
   "execution_count": 35,
   "id": "7939eba0",
   "metadata": {},
   "outputs": [],
   "source": [
    "seq = ['soup','dog','salad','cat','great']"
   ]
  },
  {
   "cell_type": "code",
   "execution_count": 37,
   "id": "8676a7bd",
   "metadata": {},
   "outputs": [
    {
     "data": {
      "text/plain": [
       "['dog', 'cat', 'great']"
      ]
     },
     "execution_count": 37,
     "metadata": {},
     "output_type": "execute_result"
    }
   ],
   "source": [
    "list(filter(lambda x:x[0]!='s',seq))"
   ]
  },
  {
   "cell_type": "markdown",
   "id": "ca8cd8c2",
   "metadata": {},
   "source": [
    "##problem 11 ##You are driving a little too fast, and a police officer stops you. Write a function to return one of 3 possible results: \"No ticket\", \"Small ticket\", or \"Big Ticket\". If your speed is 60 or less, the result is \"No Ticket\". If speed is between 61 and 80 inclusive, the result is \"Small Ticket\". If speed is 81 or more, the result is \"Big Ticket\". Unless it is your birthday (encoded as a boolean value in the parameters of the function) -- on your birthday, your speed can be 5 higher in all cases"
   ]
  },
  {
   "cell_type": "code",
   "execution_count": 39,
   "id": "04d6833f",
   "metadata": {},
   "outputs": [],
   "source": [
    "def speed_caught(speed,birthday):\n",
    "    if birthday:\n",
    "        new_speed=speed-5\n",
    "    else:\n",
    "        new_speed=speed\n",
    "    if new_speed>80:\n",
    "        return 'BIG TICKET'\n",
    "    elif new_speed>60:\n",
    "        return 'SMALL TICKET'\n",
    "    else:\n",
    "        return 'NO TICKET'\n",
    "        "
   ]
  },
  {
   "cell_type": "code",
   "execution_count": 40,
   "id": "5c2b6bf6",
   "metadata": {},
   "outputs": [
    {
     "data": {
      "text/plain": [
       "'SMALL TICKET'"
      ]
     },
     "execution_count": 40,
     "metadata": {},
     "output_type": "execute_result"
    }
   ],
   "source": [
    "speed_caught(81,True)"
   ]
  },
  {
   "cell_type": "code",
   "execution_count": 41,
   "id": "9a05c93b",
   "metadata": {},
   "outputs": [
    {
     "data": {
      "text/plain": [
       "'BIG TICKET'"
      ]
     },
     "execution_count": 41,
     "metadata": {},
     "output_type": "execute_result"
    }
   ],
   "source": [
    "speed_caught(81,False)"
   ]
  },
  {
   "cell_type": "markdown",
   "id": "06c9ad77",
   "metadata": {},
   "source": [
    "##problem12 ##Given a string print number num by extracting all the\n",
    "digits from the string as in string\n",
    "Print negative number if the first character in \n",
    "string is '-'"
   ]
  },
  {
   "cell_type": "code",
   "execution_count": 1,
   "id": "c7d482f5",
   "metadata": {},
   "outputs": [
    {
     "name": "stdout",
     "output_type": "stream",
     "text": [
      "Enter the input string: hghgf565ygy65-vghf\n",
      "56565\n"
     ]
    }
   ],
   "source": [
    "s=input(\"Enter the input string: \")\n",
    "num=\"\"\n",
    "data=[0,1,2,3,4,5,6,7,8,9]\n",
    "if s[0]==\"-\":\n",
    "    num=num+s[0]\n",
    "for c in s:\n",
    "    if c in str(data):\n",
    "        num=num+c\n",
    "print(num) "
   ]
  },
  {
   "cell_type": "markdown",
   "id": "187b8048",
   "metadata": {},
   "source": [
    "##problem13 WAP to check whether a number is palindrome or not on following conditions.\n",
    "1. take input number\n",
    "2. add number and its reverse\n",
    "3. check that number is palindrome or not,if not then sum and its reverse"
   ]
  },
  {
   "cell_type": "code",
   "execution_count": 2,
   "id": "f25b7508",
   "metadata": {},
   "outputs": [
    {
     "name": "stdout",
     "output_type": "stream",
     "text": [
      "enter the number: 88\n",
      "number is : 176\n",
      "reverse is : 671\n",
      "number is : 847\n",
      "reverse is : 748\n",
      "number is : 1595\n",
      "reverse is : 5951\n",
      "number is : 7546\n",
      "reverse is : 6457\n",
      "number is : 14003\n",
      "reverse is : 30041\n",
      "number is : 44044\n",
      "reverse is : 44044\n",
      "palimdrome is:  44044\n"
     ]
    }
   ],
   "source": [
    "n1=input(\"enter the number: \")\n",
    "n2=int(n1[::-1])\n",
    "n3=str(int(n1)+n2)\n",
    "print(\"number is :\",n3)\n",
    "print(\"reverse is :\",n3[::-1])\n",
    "while n3!=n3[::-1]:\n",
    "    n3=str(int(n3)+int(n3[::-1]))\n",
    "    print(\"number is :\",n3)\n",
    "    print(\"reverse is :\",n3[::-1])\n",
    "print(\"palimdrome is: \",n3)    \n",
    "    \n",
    "\n",
    "\n"
   ]
  },
  {
   "cell_type": "markdown",
   "id": "04b223b9",
   "metadata": {},
   "source": [
    "##problem14 Write a python function to find and display the five \n",
    "digit number in which the first digit is two more than \n",
    "the second,the second digit is two more than the third,\n",
    "the fourth digit is two less than the third, and the \n",
    "last digit is two more than\n",
    "the fourth.The sum of the third,fourth and fifth digits\n",
    "equals the first.The sum of all the digits is 19"
   ]
  },
  {
   "cell_type": "code",
   "execution_count": 11,
   "id": "bb2d72a5",
   "metadata": {},
   "outputs": [],
   "source": [
    "def func1():\n",
    "    for a in range(0,10):\n",
    "        b=a-2\n",
    "        c=b-2\n",
    "        d=c-2\n",
    "        if c+d+c==a and a+b+c+d+c==19:\n",
    "            print(str(a)+str(b)+str(c)+str(d)+str(c))\n",
    "    \n",
    "        \n",
    "        "
   ]
  },
  {
   "cell_type": "code",
   "execution_count": 12,
   "id": "05eb5fb9",
   "metadata": {},
   "outputs": [
    {
     "name": "stdout",
     "output_type": "stream",
     "text": [
      "75313\n"
     ]
    }
   ],
   "source": [
    "func1()"
   ]
  },
  {
   "cell_type": "code",
   "execution_count": null,
   "id": "5fc5537a",
   "metadata": {},
   "outputs": [],
   "source": []
  }
 ],
 "metadata": {
  "kernelspec": {
   "display_name": "Python 3 (ipykernel)",
   "language": "python",
   "name": "python3"
  },
  "language_info": {
   "codemirror_mode": {
    "name": "ipython",
    "version": 3
   },
   "file_extension": ".py",
   "mimetype": "text/x-python",
   "name": "python",
   "nbconvert_exporter": "python",
   "pygments_lexer": "ipython3",
   "version": "3.9.13"
  }
 },
 "nbformat": 4,
 "nbformat_minor": 5
}
